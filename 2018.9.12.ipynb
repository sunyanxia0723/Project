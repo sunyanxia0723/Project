{
 "cells": [
  {
   "cell_type": "markdown",
   "metadata": {},
   "source": [
    "# 选择\n",
    "## 布尔类型、数值和表达式\n",
    "![](../Python/Photo/33.png)\n",
    "- 注意：比较运算符的相等是两个等到，一个等到代表赋值\n",
    "- 在Python中可以用整型0来代表False，其他数字来代表True\n",
    "- 后面还会讲到 is 在判断语句中的用发"
   ]
  },
  {
   "cell_type": "code",
   "execution_count": 1,
   "metadata": {},
   "outputs": [
    {
     "data": {
      "text/plain": [
       "True"
      ]
     },
     "execution_count": 1,
     "metadata": {},
     "output_type": "execute_result"
    }
   ],
   "source": [
    "10 <= 10"
   ]
  },
  {
   "cell_type": "code",
   "execution_count": 2,
   "metadata": {},
   "outputs": [
    {
     "data": {
      "text/plain": [
       "True"
      ]
     },
     "execution_count": 2,
     "metadata": {},
     "output_type": "execute_result"
    }
   ],
   "source": [
    "0 == False"
   ]
  },
  {
   "cell_type": "code",
   "execution_count": 3,
   "metadata": {},
   "outputs": [
    {
     "data": {
      "text/plain": [
       "True"
      ]
     },
     "execution_count": 3,
     "metadata": {},
     "output_type": "execute_result"
    }
   ],
   "source": [
    "1 == True"
   ]
  },
  {
   "cell_type": "code",
   "execution_count": null,
   "metadata": {},
   "outputs": [],
   "source": [
    "# while 2: 大于等于1均为True\n",
    "#     print('hahaha')"
   ]
  },
  {
   "cell_type": "code",
   "execution_count": 4,
   "metadata": {},
   "outputs": [
    {
     "data": {
      "text/plain": [
       "False"
      ]
     },
     "execution_count": 4,
     "metadata": {},
     "output_type": "execute_result"
    }
   ],
   "source": [
    "2 == True"
   ]
  },
  {
   "cell_type": "markdown",
   "metadata": {},
   "source": [
    "## 字符串的比较使用ASCII值"
   ]
  },
  {
   "cell_type": "code",
   "execution_count": 14,
   "metadata": {},
   "outputs": [],
   "source": [
    "# 'a' > True 不支持字符和布尔类型的转换"
   ]
  },
  {
   "cell_type": "code",
   "execution_count": 11,
   "metadata": {},
   "outputs": [
    {
     "data": {
      "text/plain": [
       "0"
      ]
     },
     "execution_count": 11,
     "metadata": {},
     "output_type": "execute_result"
    }
   ],
   "source": [
    "1 * False"
   ]
  },
  {
   "cell_type": "code",
   "execution_count": 7,
   "metadata": {},
   "outputs": [
    {
     "name": "stdout",
     "output_type": "stream",
     "text": [
      "请输入分数：55\n",
      "成绩等级为:E\n"
     ]
    }
   ],
   "source": [
    "score = eval(input('请输入分数：'))\n",
    "if score > 90:\n",
    "    print('成绩等级为:A')\n",
    "elif 80 < score < 90:\n",
    "    print('成绩等级为:B')\n",
    "elif 70 < score < 80:\n",
    "    print('成绩等级为:C')\n",
    "elif 60 < score < 70:\n",
    "    print('成绩等级为:D')\n",
    "elif score < 60:\n",
    "    print('成绩等级为:E')"
   ]
  },
  {
   "cell_type": "markdown",
   "metadata": {},
   "source": [
    "## Markdown \n",
    "- https://github.com/younghz/Markdown"
   ]
  },
  {
   "cell_type": "markdown",
   "metadata": {},
   "source": [
    "## EP:\n",
    "- <img src=\"../Python/Photo/34.png\"></img>\n",
    "- 输入一个数字，判断其实奇数还是偶数"
   ]
  },
  {
   "cell_type": "code",
   "execution_count": 12,
   "metadata": {},
   "outputs": [],
   "source": [
    "i = 1\n",
    "j = 0 \n",
    "b1 = True\n",
    "b2 = False"
   ]
  },
  {
   "cell_type": "markdown",
   "metadata": {},
   "source": [
    "## 产生随机数字\n",
    "- 函数random.randint(a,b) 可以用来产生一个a和b之间且包括a和b的随机整数"
   ]
  },
  {
   "cell_type": "code",
   "execution_count": 13,
   "metadata": {},
   "outputs": [
    {
     "name": "stdout",
     "output_type": "stream",
     "text": [
      "产生的随机数是：10\n",
      "请输入一个1-10之间的整数：5\n",
      "您输入的数字比随机数小\n",
      "请输入一个1-10之间的整数：10\n",
      "您输入的数字与随机数相等\n"
     ]
    }
   ],
   "source": [
    "import random\n",
    "random_num = random.randint(1,10)\n",
    "print('产生的随机数是：' + str(random_num))\n",
    "while True:\n",
    "    num = eval(input('请输入一个1-10之间的整数：'))\n",
    "    if random_num > num:\n",
    "        print('您输入的数字比随机数小')\n",
    "        continue\n",
    "    elif random_num < num:\n",
    "        print('您输入的数字比随机数大')\n",
    "        continue\n",
    "    elif random_num == num:\n",
    "        print('您输入的数字与随机数相等')\n",
    "    break"
   ]
  },
  {
   "cell_type": "markdown",
   "metadata": {},
   "source": [
    "##  其他random方法\n",
    "- random.random 返回0.0到1.0之间前闭后开区间的随机浮点\n",
    "- random.randrange(a,b) 前闭后开"
   ]
  },
  {
   "cell_type": "code",
   "execution_count": 5,
   "metadata": {},
   "outputs": [
    {
     "data": {
      "text/plain": [
       "0.3605642930688062"
      ]
     },
     "execution_count": 5,
     "metadata": {},
     "output_type": "execute_result"
    }
   ],
   "source": [
    "random.random()"
   ]
  },
  {
   "cell_type": "code",
   "execution_count": 7,
   "metadata": {},
   "outputs": [
    {
     "data": {
      "text/plain": [
       "0"
      ]
     },
     "execution_count": 7,
     "metadata": {},
     "output_type": "execute_result"
    }
   ],
   "source": [
    "random.randrange(0,10,2) #0-10之间，步长是2"
   ]
  },
  {
   "cell_type": "markdown",
   "metadata": {},
   "source": [
    "## EP：\n",
    "- 产生两个随机整数number1和number2，然后显示给用户，使用户输入数字的和，并判定其是否正确\n",
    "- 进阶:写一个随机序号点名程序"
   ]
  },
  {
   "cell_type": "code",
   "execution_count": 16,
   "metadata": {},
   "outputs": [
    {
     "name": "stdout",
     "output_type": "stream",
     "text": [
      "number1 = 4\n",
      "number2 = 5\n",
      "请输入数字之和：8\n",
      "您的结果错误\n",
      "请输入数字之和：9\n",
      "您的结果正确\n"
     ]
    }
   ],
   "source": [
    "number1 = random.randint(1,5)\n",
    "number2 = random.randint(1,5)\n",
    "print('number1 = ' + str(number1))\n",
    "print('number2 = ' + str(number2))\n",
    "while 1:\n",
    "    sum = eval(input('请输入数字之和：'))\n",
    "    if sum == number1 + number2:\n",
    "        print('您的结果正确')\n",
    "        break\n",
    "    else:\n",
    "        print('您的结果错误')"
   ]
  },
  {
   "cell_type": "code",
   "execution_count": 30,
   "metadata": {},
   "outputs": [
    {
     "name": "stdout",
     "output_type": "stream",
     "text": [
      "请输入用户等级:普通\n",
      "88\n",
      "恭喜你，奖品丰厚！\n"
     ]
    }
   ],
   "source": [
    "import random\n",
    "i = 3\n",
    "user  = input(\"请输入用户等级:\")\n",
    "if user == 'SVIP':\n",
    "    a = random.randint(99,100)\n",
    "    print(a)\n",
    "elif user == 'VIP':\n",
    "    a = random.randint(80,100)\n",
    "    print(a)\n",
    "else:\n",
    "    a = random.randint(0,100)\n",
    "    print(a)\n",
    "while i > 0:\n",
    "    i -= 1\n",
    "    if 0 < a <= 80:\n",
    "        print(\"恭喜你，啥也没有！\")\n",
    "        break\n",
    "    elif 80 < a <= 98:\n",
    "        print(\"恭喜你，奖品丰厚！\")\n",
    "        break\n",
    "    elif 99 <= a <= 100:\n",
    "        print(\"恭喜你，超级大奖！\")\n",
    "        break"
   ]
  },
  {
   "cell_type": "markdown",
   "metadata": {},
   "source": [
    "## if语句\n",
    "- 如果条件正确就执行一个单向if语句，亦即当条件为真的时候才执行if内部的语句\n",
    "- Python有很多选择语句:\n",
    "> - 单向if \n",
    "  - 双向if-else\n",
    "  - 嵌套if\n",
    "  - 多向if-elif-else\n",
    "  \n",
    "- 注意：当语句含有子语句的时候，那么一定至少要有一个缩进，也就是说如果有儿子存在，那么一定要缩进\n",
    "- 切记不可tab键和space混用，单用tab 或者 space\n",
    "- 当你输出的结果是无论if是否为真时都需要显示时，语句应该与if对齐"
   ]
  },
  {
   "cell_type": "code",
   "execution_count": 26,
   "metadata": {},
   "outputs": [
    {
     "name": "stdout",
     "output_type": "stream",
     "text": [
      "输入年龄：29\n",
      "输入长相：帅或中等\n",
      "输入收入：中等\n",
      "是否是公务员？是\n",
      "我们见面吧！\n"
     ]
    }
   ],
   "source": [
    "age = eval(input('输入年龄：'))\n",
    "if age <= 30:\n",
    "    appearence = input('输入长相：')\n",
    "    if appearence == '帅或中等':\n",
    "        income = input('输入收入：')\n",
    "        if income == '高':\n",
    "            print('我们见面吧！')\n",
    "        elif income == '中等':\n",
    "            boss = input('是否是公务员：')\n",
    "            if boss == '是':\n",
    "                print('我们见面吧！')\n",
    "            else:\n",
    "                print('不是公务员，不见')\n",
    "        else:\n",
    "            print('收入低，不见')\n",
    "    else:\n",
    "        print('太丑，不见')\n",
    "else:\n",
    "    print('太老，不见')"
   ]
  },
  {
   "cell_type": "markdown",
   "metadata": {},
   "source": [
    "## EP：\n",
    "- 用户输入一个数字，判断其实奇数还是偶数\n",
    "- 进阶：可以查看下4.5实例研究猜生日"
   ]
  },
  {
   "cell_type": "markdown",
   "metadata": {},
   "source": [
    "## 双向if-else 语句\n",
    "- 如果条件为真，那么走if内部语句，否则走else内部语句"
   ]
  },
  {
   "cell_type": "markdown",
   "metadata": {},
   "source": [
    "## EP：\n",
    "- 产生两个随机整数number1和number2，然后显示给用户，使用户输入数字，并判定其是否正确,如果正确打印“you‘re correct”，否则打印正确错误"
   ]
  },
  {
   "cell_type": "markdown",
   "metadata": {},
   "source": [
    "## 嵌套if 和多向if-elif-else\n",
    "![](../Python/Photo/35.png)"
   ]
  },
  {
   "cell_type": "markdown",
   "metadata": {},
   "source": [
    "## EP：\n",
    "- 提示用户输入一个年份，然后显示表示这一年的动物\n",
    "![](../Python/Photo/36.png)\n",
    "- 计算身体质量指数的程序\n",
    "- BMI = 以千克为单位的体重除以以米为单位的身高\n",
    "![](../Python/Photo/37.png)"
   ]
  },
  {
   "cell_type": "code",
   "execution_count": 31,
   "metadata": {},
   "outputs": [
    {
     "name": "stdout",
     "output_type": "stream",
     "text": [
      "输入一个年份：2018\n",
      "狗\n"
     ]
    }
   ],
   "source": [
    "year = eval(input('输入一个年份：'))\n",
    "num = year % 12\n",
    "if num == 0:\n",
    "    print('猴')\n",
    "elif num == 1:\n",
    "    print('鸡')\n",
    "elif num == 2:\n",
    "    print('狗')\n",
    "elif num == 3:\n",
    "    print('猪')\n",
    "elif num == 4:\n",
    "    print('鼠')\n",
    "elif num == 5:\n",
    "    print('牛')\n",
    "elif num == 6:\n",
    "    print('虎')\n",
    "elif num == 7:\n",
    "    print('兔')\n",
    "elif num == 8:\n",
    "    print('龙')\n",
    "elif num == 9:\n",
    "    print('蛇')\n",
    "elif num == 10:\n",
    "    print('马')\n",
    "elif num == 11:\n",
    "    print('羊')"
   ]
  },
  {
   "cell_type": "code",
   "execution_count": 36,
   "metadata": {},
   "outputs": [
    {
     "name": "stdout",
     "output_type": "stream",
     "text": [
      "输入您的身高(m)和体重(kg)：1.68,50\n",
      "超轻\n"
     ]
    }
   ],
   "source": [
    "height,weight = eval(input('输入您的身高(m)和体重(kg)：'))\n",
    "BMI = weight / (height * height)\n",
    "if BMI < 18.5:\n",
    "    print('超轻')\n",
    "elif 18.5 <= BMI <25.0:\n",
    "    print('标准')\n",
    "elif 25.0 <= BMI <30.0:\n",
    "    print('超重')\n",
    "elif 30.0 <= BMI:\n",
    "    print('痴肥')"
   ]
  },
  {
   "cell_type": "markdown",
   "metadata": {},
   "source": [
    "## 逻辑运算符\n",
    "![](../Python/Photo/38.png)"
   ]
  },
  {
   "cell_type": "code",
   "execution_count": 37,
   "metadata": {},
   "outputs": [
    {
     "data": {
      "text/plain": [
       "True"
      ]
     },
     "execution_count": 37,
     "metadata": {},
     "output_type": "execute_result"
    }
   ],
   "source": [
    "True and True"
   ]
  },
  {
   "cell_type": "code",
   "execution_count": 39,
   "metadata": {},
   "outputs": [
    {
     "data": {
      "text/plain": [
       "False"
      ]
     },
     "execution_count": 39,
     "metadata": {},
     "output_type": "execute_result"
    }
   ],
   "source": [
    "False and False"
   ]
  },
  {
   "cell_type": "markdown",
   "metadata": {},
   "source": [
    "![](../Python/Photo/39.png)\n",
    "![](../Python/Photo/40.png)"
   ]
  },
  {
   "cell_type": "code",
   "execution_count": 40,
   "metadata": {},
   "outputs": [
    {
     "data": {
      "text/plain": [
       "False"
      ]
     },
     "execution_count": 40,
     "metadata": {},
     "output_type": "execute_result"
    }
   ],
   "source": [
    "a = [1,2,3,4]\n",
    "1 not in a"
   ]
  },
  {
   "cell_type": "code",
   "execution_count": 44,
   "metadata": {},
   "outputs": [
    {
     "data": {
      "text/plain": [
       "True"
      ]
     },
     "execution_count": 44,
     "metadata": {},
     "output_type": "execute_result"
    }
   ],
   "source": [
    "age = 19\n",
    "not (age > 20)"
   ]
  },
  {
   "cell_type": "markdown",
   "metadata": {},
   "source": [
    "## EP：\n",
    "- 判定闰年：一个年份如果能被4整除但不能被100整除，或者能被400整除，那么这个年份就是闰年\n",
    "- 提示用户输入一个年份，并返回是否是闰年\n",
    "- 提示用户输入一个数字，判断其是否为水仙花数"
   ]
  },
  {
   "cell_type": "code",
   "execution_count": 55,
   "metadata": {},
   "outputs": [
    {
     "name": "stdout",
     "output_type": "stream",
     "text": [
      "输入一个年份：2000\n",
      "此年是闰年\n"
     ]
    }
   ],
   "source": [
    "year = eval(input('输入一个年份：'))\n",
    "if ((year % 4 == 0) and (year % 100 != 0)) or (year % 400 == 0):\n",
    "    print('此年是闰年')\n",
    "else:\n",
    "    print('此年不是闰年')"
   ]
  },
  {
   "cell_type": "code",
   "execution_count": 54,
   "metadata": {},
   "outputs": [
    {
     "name": "stdout",
     "output_type": "stream",
     "text": [
      "请输入一个三位数的整数：153\n",
      "此数是水仙花数\n"
     ]
    }
   ],
   "source": [
    "num = eval(input('请输入一个三位数的整数：'))\n",
    "ge = num % 10\n",
    "shi = num // 10 % 10\n",
    "bai = num // 100\n",
    "sum = ge ** 3 + shi ** 3 + bai ** 3\n",
    "if sum == num:\n",
    "    print('此数是水仙花数')\n",
    "else:\n",
    "    print('此数不是水仙花数')"
   ]
  },
  {
   "cell_type": "markdown",
   "metadata": {},
   "source": [
    "## 实例研究：彩票\n",
    "![](../Python/Photo/41.png)"
   ]
  },
  {
   "cell_type": "code",
   "execution_count": 56,
   "metadata": {},
   "outputs": [
    {
     "name": "stdout",
     "output_type": "stream",
     "text": [
      "产生的随机数是：82\n",
      "输入一个两位数：89\n",
      "三等奖\n"
     ]
    }
   ],
   "source": [
    "import random\n",
    "random_num1 = random.randint(1,9)\n",
    "random_num2 = random.randint(0,9)\n",
    "random_num = str(random_num1) + str(random_num2)\n",
    "print('产生的随机数是：' + str(random_num))\n",
    "input_num = input('输入一个两位数：')\n",
    "if num == random_num:\n",
    "    print('一等奖')\n",
    "elif (input_num[0] == random_num[1]) and (input_num[1] == random_num[0]):\n",
    "    print('二等奖')\n",
    "elif  (input_num[0] == random_num[0])or(input_num[0] == random_num[1])or(input_num[1] == random_num[0])or(input_num[1] == random_num[1]):\n",
    "    print('三等奖')\n",
    "else:\n",
    "    print('未中奖')"
   ]
  },
  {
   "cell_type": "markdown",
   "metadata": {},
   "source": [
    "# Homework\n",
    "- 1\n",
    "![](../Python/Photo/42.png)"
   ]
  },
  {
   "cell_type": "code",
   "execution_count": 60,
   "metadata": {},
   "outputs": [
    {
     "name": "stdout",
     "output_type": "stream",
     "text": [
      "Enter a,b,c:1,2,1\n",
      "The root is -1.0\n"
     ]
    }
   ],
   "source": [
    "import math\n",
    "a,b,c = eval(input('Enter a,b,c:'))\n",
    "num = b ** 2 - 4 * a * c\n",
    "r1 = (-b + math.sqrt(num)) / 2 * a\n",
    "r2 = (-b - math.sqrt(num)) / 2 * a\n",
    "if num > 0:\n",
    "    print('The root are ' + str(r1) + ' and ' + str(r2))\n",
    "elif num == 0:\n",
    "    print('The root is ' + str(r1))\n",
    "else :\n",
    "    print('The equation has no real root')"
   ]
  },
  {
   "cell_type": "markdown",
   "metadata": {},
   "source": [
    "- 2\n",
    "![](../Python/Photo/43.png)"
   ]
  },
  {
   "cell_type": "code",
   "execution_count": 2,
   "metadata": {},
   "outputs": [
    {
     "name": "stdout",
     "output_type": "stream",
     "text": [
      "产生的随机数是：22  41\n",
      "输入两数之和：55\n",
      "False\n"
     ]
    }
   ],
   "source": [
    "import random\n",
    "random_num1 = random.randint(0,99)\n",
    "random_num2 = random.randint(0,99)\n",
    "print('产生的随机数是：' + str(random_num1) + '  ' + str(random_num2) )\n",
    "sum = eval(input('输入两数之和：'))\n",
    "if sum == random_num1 + random_num2:\n",
    "    print('True')\n",
    "else:\n",
    "    print('False')"
   ]
  },
  {
   "cell_type": "markdown",
   "metadata": {},
   "source": [
    "- 3\n",
    "![](../Python/Photo/44.png)"
   ]
  },
  {
   "cell_type": "code",
   "execution_count": 5,
   "metadata": {},
   "outputs": [
    {
     "name": "stdout",
     "output_type": "stream",
     "text": [
      "Enter today's day：1\n",
      "Enter the number of days elapsed since today：3\n",
      "Thursday\n"
     ]
    }
   ],
   "source": [
    "today = eval(input('Enter today\\'s day：' ))\n",
    "number = eval(input('Enter the number of days elapsed since today：' ))\n",
    "if (today + number) % 7 == 0:\n",
    "    print('Sunday')\n",
    "elif (today + number) % 7 == 1:\n",
    "    print('Monday')\n",
    "elif (today + number) % 7 == 2:\n",
    "    print('Tuesday')\n",
    "elif (today + number) % 7 == 3:\n",
    "    print('Wednesday')\n",
    "elif (today + number) % 7 == 4:\n",
    "    print('Thursday')\n",
    "elif (today + number) % 7 == 5:\n",
    "    print('Friday')\n",
    "elif (today + number) % 7 == 6:\n",
    "    print('Saturday')"
   ]
  },
  {
   "cell_type": "markdown",
   "metadata": {},
   "source": [
    "- 4\n",
    "![](../Python/Photo/45.png)"
   ]
  },
  {
   "cell_type": "code",
   "execution_count": 14,
   "metadata": {},
   "outputs": [
    {
     "name": "stdout",
     "output_type": "stream",
     "text": [
      "请输入三个整数：1,2,3\n",
      "3 2 1\n"
     ]
    }
   ],
   "source": [
    "a,b,c = eval(input('请输入三个整数：'))\n",
    "if a > b:\n",
    "    if a > c:\n",
    "        if c > b:\n",
    "            print(a,c,b)\n",
    "        else:\n",
    "            print(a,b,c)\n",
    "    else:\n",
    "        print(c,a,b)\n",
    "else:\n",
    "    if b > c:\n",
    "        if c > a:\n",
    "            print(b,c,a)\n",
    "        else:\n",
    "            print(b,a,c)\n",
    "    else:\n",
    "        print(c,b,a)"
   ]
  },
  {
   "cell_type": "markdown",
   "metadata": {},
   "source": [
    "- 5\n",
    "![](../Python/Photo/46.png)"
   ]
  },
  {
   "cell_type": "code",
   "execution_count": 13,
   "metadata": {},
   "outputs": [
    {
     "name": "stdout",
     "output_type": "stream",
     "text": [
      "Enter weirht and price for package 1:50,24.59\n",
      "Enter weirht and price for package 2:25,11.99\n",
      "Package 2 has the better price.\n"
     ]
    }
   ],
   "source": [
    "w1,p1 = eval(input('Enter weirht and price for package 1:'))\n",
    "w2,p2 = eval(input('Enter weirht and price for package 2:'))\n",
    "if w1 > w2:\n",
    "    print('Package 2 has the better price.')\n",
    "else:\n",
    "    print('Package 1 has the better price.')"
   ]
  },
  {
   "cell_type": "markdown",
   "metadata": {},
   "source": [
    "- 6\n",
    "![](../Python/Photo/47.png)"
   ]
  },
  {
   "cell_type": "code",
   "execution_count": 2,
   "metadata": {},
   "outputs": [
    {
     "name": "stdout",
     "output_type": "stream",
     "text": [
      "输入月份: 2\n",
      "输入年份: 2000\n",
      "2000 年的 2 月有 29 天\n"
     ]
    }
   ],
   "source": [
    "month = eval(input('输入月份: '))\n",
    "year = eval(input('输入年份: '))\n",
    "day = [31,28,31,30,31,30,31,31,30,31,30,31]\n",
    "if ((year % 4 == 0) and (year % 100 != 0))  or (year % 400 == 0):\n",
    "    day[1] = day[1]+1\n",
    "print(year,'年的',month,'月有',day[month-1],'天')"
   ]
  },
  {
   "cell_type": "markdown",
   "metadata": {},
   "source": [
    "- 7\n",
    "![](../Python/Photo/48.png)"
   ]
  },
  {
   "cell_type": "code",
   "execution_count": 18,
   "metadata": {},
   "outputs": [
    {
     "name": "stdout",
     "output_type": "stream",
     "text": [
      "输入猜测值：0\n",
      "True\n"
     ]
    }
   ],
   "source": [
    "import random\n",
    "coin = random.randint(0,1)\n",
    "num = eval(input('输入猜测值：'))\n",
    "if coin == num:\n",
    "    print('True')\n",
    "else:\n",
    "    print('False')"
   ]
  },
  {
   "cell_type": "markdown",
   "metadata": {},
   "source": [
    "- 8\n",
    "![](../Python/Photo/49.png)"
   ]
  },
  {
   "cell_type": "code",
   "execution_count": null,
   "metadata": {},
   "outputs": [],
   "source": [
    "import random\n",
    "b = random.randint(0,2)\n",
    "c = ['scissor','rock','paper']\n",
    "a = eval(input('scissor(0),rock(1), paper(2):'))"
   ]
  },
  {
   "cell_type": "markdown",
   "metadata": {},
   "source": [
    "- 9\n",
    "![](../Python/Photo/50.png)"
   ]
  },
  {
   "cell_type": "code",
   "execution_count": 21,
   "metadata": {},
   "outputs": [
    {
     "name": "stdout",
     "output_type": "stream",
     "text": [
      "Enter year:2012\n",
      "Enter month 1-12：5\n",
      "Enter day 1-31:12\n",
      "Day of the week is Saturday\n"
     ]
    }
   ],
   "source": [
    "year = eval(input('Enter year:'))\n",
    "month = eval(input('Enter month 1-12：'))\n",
    "day = eval(input('Enter day 1-31:'))\n",
    "week =  ['Saturday','Sunday','Monday','Tuesday','Wednesday','Thursday','Friday']\n",
    "if month == 1:\n",
    "    month == 13\n",
    "    year == year - 1\n",
    "elif month == 2:\n",
    "    month == 14\n",
    "    year == year - 1\n",
    "h = (day + ((26 * (month + 1)) / 10 // 1)  + (year % 100) + (((year % 100) / 4) // 1) + (((year / 100) / 4 // 1)) + (5 * (year / 100) // 1) ) % 7\n",
    "print('Day of the week is',week[int(h)])"
   ]
  },
  {
   "cell_type": "markdown",
   "metadata": {},
   "source": [
    "- 10\n",
    "![](../Python/Photo/51.png)"
   ]
  },
  {
   "cell_type": "code",
   "execution_count": 12,
   "metadata": {},
   "outputs": [
    {
     "name": "stdout",
     "output_type": "stream",
     "text": [
      "The card you picked is the 6 of 黑桃\n"
     ]
    }
   ],
   "source": [
    "import random\n",
    "num = ['Ace', '2', '3', '4', '5', '6', '7', '8', '9', '10', 'Jack', 'Queen', 'King']\n",
    "color = ['梅花', '红桃', '方块', '黑桃']\n",
    "from random import choice\n",
    "print ('The card you picked is the '+ choice(num)+ ' of ' +choice(color))"
   ]
  },
  {
   "cell_type": "markdown",
   "metadata": {},
   "source": [
    "- 11\n",
    "![](../Python/Photo/52.png)"
   ]
  },
  {
   "cell_type": "code",
   "execution_count": 16,
   "metadata": {},
   "outputs": [
    {
     "name": "stdout",
     "output_type": "stream",
     "text": [
      "Enter a three-digit integer:121\n",
      "121 is a palindrome\n"
     ]
    }
   ],
   "source": [
    "num = eval(input('Enter a three-digit integer:'))\n",
    "ge = num % 10\n",
    "shi = num // 10 % 10\n",
    "bai = num // 100\n",
    "if ge == bai:\n",
    "    print(str(num) + ' is a palindrome')\n",
    "else:\n",
    "    print(str(num) + ' is not a palindrome')"
   ]
  },
  {
   "cell_type": "markdown",
   "metadata": {},
   "source": [
    "- 12\n",
    "![](../Python/Photo/53.png)"
   ]
  },
  {
   "cell_type": "code",
   "execution_count": 10,
   "metadata": {},
   "outputs": [
    {
     "name": "stdout",
     "output_type": "stream",
     "text": [
      "Enter three edges：1,1,1\n",
      "The perimeter is ：3\n"
     ]
    }
   ],
   "source": [
    "a,b,c = eval(input('Enter three edges：'))\n",
    "if ((a + b) > c) and ((a + c) > b) and ((c + b) > a):\n",
    "    print('The perimeter is ：' + str(a + b + c))\n",
    "else:\n",
    "    print('三角形边长不合法')"
   ]
  }
 ],
 "metadata": {
  "kernelspec": {
   "display_name": "Python 3",
   "language": "python",
   "name": "python3"
  },
  "language_info": {
   "codemirror_mode": {
    "name": "ipython",
    "version": 3
   },
   "file_extension": ".py",
   "mimetype": "text/x-python",
   "name": "python",
   "nbconvert_exporter": "python",
   "pygments_lexer": "ipython3",
   "version": "3.6.4"
  }
 },
 "nbformat": 4,
 "nbformat_minor": 2
}
